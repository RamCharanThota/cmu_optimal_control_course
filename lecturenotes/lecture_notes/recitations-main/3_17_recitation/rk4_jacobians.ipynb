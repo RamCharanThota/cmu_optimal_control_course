{
 "cells": [
  {
   "cell_type": "code",
   "execution_count": 40,
   "id": "00750406",
   "metadata": {},
   "outputs": [
    {
     "data": {
      "text/plain": [
       "ForwardDiff"
      ]
     },
     "execution_count": 40,
     "metadata": {},
     "output_type": "execute_result"
    }
   ],
   "source": [
    "using LinearAlgebra\n",
    "using ForwardDiff\n",
    "const FD = ForwardDiff"
   ]
  },
  {
   "cell_type": "code",
   "execution_count": 41,
   "id": "1df50463",
   "metadata": {},
   "outputs": [
    {
     "data": {
      "text/plain": [
       "dynamics (generic function with 1 method)"
      ]
     },
     "execution_count": 41,
     "metadata": {},
     "output_type": "execute_result"
    }
   ],
   "source": [
    "function dynamics(x, u)\n",
    "    # euler's with added nonlinearities\n",
    "    J = Diagonal([1, 2, 3])\n",
    "    ẋ = J \\ (u * sin(u[1]) - cross(x, J * x)) * cos(u[2])\n",
    "end"
   ]
  },
  {
   "cell_type": "code",
   "execution_count": 42,
   "id": "42b9f990",
   "metadata": {},
   "outputs": [
    {
     "data": {
      "text/plain": [
       "rk4 (generic function with 1 method)"
      ]
     },
     "execution_count": 42,
     "metadata": {},
     "output_type": "execute_result"
    }
   ],
   "source": [
    "function rk4(x,u,dt)\n",
    "    k1 = dt * dynamics(x,        u)\n",
    "    k2 = dt * dynamics(x + k1/2, u)\n",
    "    k3 = dt * dynamics(x + k2/2, u)\n",
    "    k4 = dt * dynamics(x + k3,   u)\n",
    "    x + (1 / 6) * (k1 + 2 * k2 + 2 * k3 + k4)\n",
    "end"
   ]
  },
  {
   "cell_type": "code",
   "execution_count": 43,
   "id": "39dad94b",
   "metadata": {},
   "outputs": [
    {
     "data": {
      "text/plain": [
       "dynamics_and_jacobians (generic function with 1 method)"
      ]
     },
     "execution_count": 43,
     "metadata": {},
     "output_type": "execute_result"
    }
   ],
   "source": [
    "function dynamics_jacobians(x,u)\n",
    "    A = FD.jacobian(_x -> dynamics(_x, u), x)\n",
    "    B = FD.jacobian(_u -> dynamics(x, _u), u)\n",
    "    return A, B\n",
    "end\n",
    "function dynamics_and_jacobians(x,u)\n",
    "    ẋ = dynamics(x, u)\n",
    "    A, B = dynamics_jacobians(x, u)\n",
    "    return ẋ, A, B\n",
    "end"
   ]
  },
  {
   "cell_type": "code",
   "execution_count": 46,
   "id": "631fdb49",
   "metadata": {},
   "outputs": [
    {
     "data": {
      "text/plain": [
       "rk4step_jacobians (generic function with 1 method)"
      ]
     },
     "execution_count": 46,
     "metadata": {},
     "output_type": "execute_result"
    }
   ],
   "source": [
    "function rk4step_jacobians(x,u,dt)\n",
    "\n",
    "    # normal RK4 but we store the A's and B's at each evaluate point\n",
    "    ẋ1, A1, B1 = dynamics_and_jacobians(x,                u)\n",
    "\n",
    "    ẋ2, A2, B2 = dynamics_and_jacobians(x + .5 * dt * ẋ1, u)\n",
    "\n",
    "    ẋ3, A3, B3 = dynamics_and_jacobians(x + .5 * dt * ẋ2, u)\n",
    "\n",
    "    ẋ4, A4, B4 = dynamics_and_jacobians(x + dt * ẋ3,      u)\n",
    "\n",
    "    x₊ = x + (1 / 6) * dt * (ẋ1 + 2 * ẋ2 + 2 * ẋ3 + ẋ4)\n",
    "\n",
    "    # A_d\n",
    "    dk1_dx1 = dt*A1\n",
    "    dx2_dx1 = I + .5*dk1_dx1\n",
    "    dk2_dx1 = dt*A2*dx2_dx1\n",
    "    dx3_dx1 = I + .5*dk2_dx1\n",
    "    dk3_dx1 = dt*A3*dx3_dx1\n",
    "    dx4_dx1 = I + dk3_dx1\n",
    "    dk4_dx1 = dt*A4*dx4_dx1\n",
    "    A_d = I + (1/6)*(dk1_dx1 + 2*dk2_dx1 + 2*dk3_dx1 + dk4_dx1)\n",
    "\n",
    "    # B_d\n",
    "    dk1_du = dt*B1\n",
    "    dx2_du = .5*dk1_du\n",
    "    dk2_du = dt*A2*dx2_du + dt*B2\n",
    "    dx3_du = .5*dk2_du\n",
    "    dk3_du = dt*A3*dx3_du + dt*B3\n",
    "    dx4_du = dk3_du\n",
    "    dk4_du = dt*A4*dx4_du + dt*B4\n",
    "    B_d = (1/6)*(dk1_du + 2*dk2_du + 2*dk3_du + dk4_du)\n",
    "\n",
    "    return x₊, A_d, B_d\n",
    "end"
   ]
  },
  {
   "cell_type": "code",
   "execution_count": 47,
   "id": "ad46278b",
   "metadata": {},
   "outputs": [
    {
     "name": "stdout",
     "output_type": "stream",
     "text": [
      "norm(x2 - x₊) = 1.734723475976807e-18\n",
      "norm(A_d - A_rk4) = 9.579489523762355e-19\n",
      "norm(B_d - B_rk4) = 1.5899003299612593e-17\n"
     ]
    },
    {
     "data": {
      "text/plain": [
       "1.5899003299612593e-17"
      ]
     },
     "execution_count": 47,
     "metadata": {},
     "output_type": "execute_result"
    }
   ],
   "source": [
    "let \n",
    "    # random state and control \n",
    "    x = randn(3)\n",
    "    u = randn(3)\n",
    "    dt = 0.1 \n",
    "    \n",
    "    # get RK4 jacobians with ForwardDiff\n",
    "    A_rk4 = FD.jacobian(_x -> rk4(_x,u,dt),x)\n",
    "    B_rk4 = FD.jacobian(_u -> rk4(x,_u,dt),u)\n",
    "    x2 = rk4(x,u,dt)\n",
    "    \n",
    "    # get RK4 jacobians with our new function\n",
    "    x₊, A_d, B_d = rk4step_jacobians(x,u,dt)\n",
    "    \n",
    "    # show they are the same\n",
    "    @show norm(x2 - x₊)\n",
    "    @show norm(A_d - A_rk4)\n",
    "    @show norm(B_d - B_rk4)\n",
    "end"
   ]
  },
  {
   "cell_type": "code",
   "execution_count": null,
   "id": "26c25de4",
   "metadata": {},
   "outputs": [],
   "source": []
  }
 ],
 "metadata": {
  "kernelspec": {
   "display_name": "Julia 1.6.5",
   "language": "julia",
   "name": "julia-1.6"
  },
  "language_info": {
   "file_extension": ".jl",
   "mimetype": "application/julia",
   "name": "julia",
   "version": "1.6.5"
  }
 },
 "nbformat": 4,
 "nbformat_minor": 5
}
