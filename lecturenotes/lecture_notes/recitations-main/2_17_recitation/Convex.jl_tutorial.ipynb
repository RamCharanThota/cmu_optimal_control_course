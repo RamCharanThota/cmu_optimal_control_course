{
 "cells": [
  {
   "cell_type": "code",
   "execution_count": 38,
   "id": "c0d29247",
   "metadata": {},
   "outputs": [
    {
     "name": "stderr",
     "output_type": "stream",
     "text": [
      "\u001b[32m\u001b[1m  Activating\u001b[22m\u001b[39m environment at `~/devel/hw_ideas/hw2/Project.toml`\n"
     ]
    },
    {
     "data": {
      "text/plain": [
       "MersenneTwister(1)"
      ]
     },
     "execution_count": 38,
     "metadata": {},
     "output_type": "execute_result"
    }
   ],
   "source": [
    "import Pkg\n",
    "Pkg.activate(@__DIR__)\n",
    "Pkg.instantiate()\n",
    "using LinearAlgebra, Plots\n",
    "import ForwardDiff as FD\n",
    "using Test\n",
    "import Convex as cvx \n",
    "import ECOS\n",
    "using Random\n",
    "Random.seed!(1)"
   ]
  },
  {
   "cell_type": "markdown",
   "id": "4a25e2dc",
   "metadata": {},
   "source": [
    "# Convex.jl tutorial\n",
    "\n",
    "This is convex modeling tool in Julia that let's us write out problems in a simple way, and then Convex.jl transforms them and sends them off to be solved (we're using [ECOS](https://github.com/embotech/ecos) as our solver today). If you want examples/inspiration for this technology, there are a few like this:\n",
    "\n",
    "- Python: [CVXPY](https://www.cvxpy.org/) or [CVXOPT](http://cvxopt.org/) (cvxpy is probably what you want)\n",
    "- Matlab: [CVX](http://cvxr.com/cvx/) or [YALMIP](https://yalmip.github.io/) (I like CVX better)\n",
    "- R: [CVXR](https://cvxr.rbind.io/)\n",
    "\n",
    "For Convex.jl the [repo is here](https://github.com/jump-dev/Convex.jl), and the [docs are here](https://jump.dev/Convex.jl/stable/)\n",
    "\n",
    "These tools are just used for formulating your problem and verifying that it is Convex. The problem itself is solved by one of many available solvers, many common ones are:\n",
    "\n",
    "- OSQP\n",
    "- ECOS \n",
    "- CPLEX \n",
    "- Mosek \n",
    "- Gurobi\n",
    "- COSMO \n",
    "- SeDuMi \n",
    "- SDPT3 \n",
    "- GLPK \n",
    "- Hypatia "
   ]
  },
  {
   "cell_type": "markdown",
   "id": "84eefc5a",
   "metadata": {},
   "source": [
    "## Least Squares \n",
    "For overdetermined systems (more equations than variables, \"skinny\" matrix A)\n",
    "$$ \\begin{align} \\min_{x} \\quad & \\|Ax - b\\|^2_2\n",
    " \\end{align}$$"
   ]
  },
  {
   "cell_type": "code",
   "execution_count": 39,
   "id": "e9213570",
   "metadata": {},
   "outputs": [
    {
     "name": "stdout",
     "output_type": "stream",
     "text": [
      "\u001b[0m\u001b[1mTest Summary:  | \u001b[22m\u001b[32m\u001b[1mPass  \u001b[22m\u001b[39m\u001b[36m\u001b[1mTotal\u001b[22m\u001b[39m\n",
      "overdetermined | \u001b[32m   1  \u001b[39m\u001b[36m    1\u001b[39m\n",
      "\n",
      "ECOS 2.0.8 - (C) embotech GmbH, Zurich Switzerland, 2012-15. Web: www.embotech.com/ECOS\n",
      "\n",
      "It     pcost       dcost      gap   pres   dres    k/t    mu     step   sigma     IR    |   BT\n",
      " 0  +0.000e+00  -1.322e+00  +7e+00  5e-01  6e-02  1e+00  2e+00    ---    ---    1  1  - |  -  - \n",
      " 1  -8.414e-02  -2.498e-01  +1e+00  9e-02  9e-03  2e-01  4e-01  0.7930  2e-02   1  1  1 |  0  0\n",
      " 2  +6.991e-01  +1.012e+00  +1e+00  9e-01  4e-02  3e+00  3e-01  0.5543  6e-01   2  2  2 |  0  0\n",
      " 3  +2.161e+00  +2.412e+00  +2e-01  1e-01  6e-03  6e-01  5e-02  0.8494  1e-02   2  1  1 |  0  0\n",
      " 4  +6.859e-01  +1.938e+00  +1e-01  3e-01  9e-03  2e+00  4e-02  0.4696  5e-01   2  2  2 |  0  0\n",
      " 5  +2.934e+00  +2.803e+00  +1e-01  6e-02  3e-03  4e-02  3e-02  0.5767  6e-01   2  2  2 |  0  0\n",
      " 6  +4.186e+00  +4.179e+00  +1e-02  1e-02  5e-04  2e-02  3e-03  0.8948  4e-03   2  2  2 |  0  0\n",
      " 7  +4.628e+00  +4.647e+00  +2e-03  4e-03  1e-04  3e-02  7e-04  0.8782  8e-02   2  2  2 |  0  0\n",
      " 8  +4.709e+00  +4.713e+00  +5e-04  7e-04  3e-05  5e-03  1e-04  0.8152  2e-02   2  1  2 |  0  0\n",
      " 9  +4.744e+00  +4.744e+00  +2e-05  2e-05  1e-06  1e-04  5e-06  0.9723  1e-02   2  2  2 |  0  0\n",
      "10  +4.745e+00  +4.745e+00  +1e-06  1e-06  5e-08  7e-06  3e-07  0.9503  3e-04   3  1  1 |  0  0\n",
      "11  +4.745e+00  +4.745e+00  +3e-08  4e-08  2e-09  5e-07  9e-09  0.9829  2e-02   2  1  1 |  0  0\n",
      "12  +4.745e+00  +4.745e+00  +4e-10  6e-10  2e-11  8e-09  1e-10  0.9858  1e-04   2  1  1 |  0  0\n",
      "\n",
      "OPTIMAL (within feastol=6.2e-10, reltol=9.1e-11, abstol=4.3e-10).\n",
      "Runtime: 0.000489 seconds.\n",
      "\n"
     ]
    },
    {
     "data": {
      "text/plain": [
       "Test.DefaultTestSet(\"overdetermined\", Any[], 1, false, false)"
      ]
     },
     "execution_count": 39,
     "metadata": {},
     "output_type": "execute_result"
    }
   ],
   "source": [
    "@testset \"overdetermined\" begin \n",
    "    # overdetermined\n",
    "    A = randn(10,5)\n",
    "    b = randn(10)\n",
    "    x = cvx.Variable(5)\n",
    "    \n",
    "    prob = cvx.minimize(cvx.sumsquares(A*x - b)) # sumsquares(y) = dot(y,y) = norm(y)^2\n",
    "    cvx.solve!(prob, ECOS.Optimizer; silent_solver = false)\n",
    "    \n",
    "    xcvx = x.value::Matrix # This will always be a matrix\n",
    "    xcvx = vec(x.value) # convert to vector easily \n",
    "    \n",
    "    # compare with pseudoinverse\n",
    "    @test norm(xcvx - (A'*A\\(A'*b))) < 1e-4\n",
    "\n",
    "end"
   ]
  },
  {
   "cell_type": "markdown",
   "id": "4523e464",
   "metadata": {},
   "source": [
    "For underdetermined systems (more variables than equations, \"fat\" matrix A)\n",
    "$$ \\begin{align} \\min_{x} \\quad & \\|x\\|^2_2 \\\\ \n",
    " \\text{st} \\quad & A x = b \n",
    " \\end{align}$$"
   ]
  },
  {
   "cell_type": "code",
   "execution_count": 40,
   "id": "76000841",
   "metadata": {},
   "outputs": [
    {
     "name": "stdout",
     "output_type": "stream",
     "text": [
      "\u001b[0m\u001b[1mTest Summary:   | \u001b[22m\u001b[32m\u001b[1mPass  \u001b[22m\u001b[39m\u001b[36m\u001b[1mTotal\u001b[22m\u001b[39m\n",
      "underdetermined | \u001b[32m   1  \u001b[39m\u001b[36m    1\u001b[39m\n",
      "\n",
      "ECOS 2.0.8 - (C) embotech GmbH, Zurich Switzerland, 2012-15. Web: www.embotech.com/ECOS\n",
      "\n",
      "It     pcost       dcost      gap   pres   dres    k/t    mu     step   sigma     IR    |   BT\n",
      " 0  +0.000e+00  -1.322e+00  +7e+00  3e-01  7e-02  1e+00  2e+00    ---    ---    1  1  - |  -  - \n",
      " 1  -6.948e-02  -2.844e-01  +2e+00  8e-02  1e-02  3e-01  5e-01  0.7428  2e-02   1  1  1 |  0  0\n",
      " 2  +8.012e-01  +9.778e-01  +1e+00  5e-01  3e-02  2e+00  4e-01  0.7082  5e-01   2  2  2 |  0  0\n",
      " 3  +1.660e+00  +2.051e+00  +1e-01  6e-02  3e-03  5e-01  4e-02  0.9860  9e-02   2  1  1 |  0  0\n",
      " 4  +2.893e+00  +3.067e+00  +2e-02  1e-02  7e-04  2e-01  7e-03  0.8954  9e-02   2  2  2 |  0  0\n",
      " 5  +3.168e+00  +3.279e+00  +1e-02  1e-02  4e-04  1e-01  3e-03  0.6701  3e-01   2  2  2 |  0  0\n",
      " 6  +3.468e+00  +3.471e+00  +4e-04  3e-04  2e-05  4e-03  1e-04  0.9676  5e-03   3  1  2 |  0  0\n",
      " 7  +3.481e+00  +3.481e+00  +3e-05  2e-05  1e-06  2e-04  9e-06  0.9890  6e-02   2  1  2 |  0  0\n",
      " 8  +3.482e+00  +3.482e+00  +8e-07  6e-07  3e-08  7e-06  3e-07  0.9731  1e-04   2  1  1 |  0  0\n",
      " 9  +3.482e+00  +3.482e+00  +6e-08  5e-08  2e-09  5e-07  2e-08  0.9331  5e-03   3  1  1 |  0  0\n",
      "10  +3.482e+00  +3.482e+00  +7e-10  6e-10  2e-11  7e-09  2e-10  0.9890  2e-03   2  1  1 |  0  0\n",
      "\n",
      "OPTIMAL (within feastol=6.0e-10, reltol=2.1e-10, abstol=7.2e-10).\n",
      "Runtime: 0.000404 seconds.\n",
      "\n"
     ]
    },
    {
     "data": {
      "text/plain": [
       "Test.DefaultTestSet(\"underdetermined\", Any[], 1, false, false)"
      ]
     },
     "execution_count": 40,
     "metadata": {},
     "output_type": "execute_result"
    }
   ],
   "source": [
    "@testset \"underdetermined\" begin \n",
    "    \n",
    "    # overdetermined\n",
    "    A = randn(5,10)\n",
    "    b = randn(5)\n",
    "    x = cvx.Variable(10)\n",
    "    prob = cvx.minimize(cvx.sumsquares(x))\n",
    "    \n",
    "    # add constraint \n",
    "    prob.constraints += (A*x == b)\n",
    "    cvx.solve!(prob, ECOS.Optimizer; silent_solver = false)\n",
    "    \n",
    "    xcvx = x.value::Matrix # This will always be a matrix\n",
    "    xcvx = vec(x.value) # convert to vector easily \n",
    "    \n",
    "    # compare with pseudoinverse\n",
    "    @test norm(xcvx - A'*((A*A')\\b)) < 1e-4\n",
    "\n",
    "\n",
    "end"
   ]
  },
  {
   "cell_type": "markdown",
   "id": "81106200",
   "metadata": {},
   "source": [
    "## Equality constrained QP \n",
    "\n",
    "$$ \\begin{align} \\min_{x} \\quad & \\frac{1}{2} x^TQx + q^Tx \\\\ \n",
    " \\text{st} \\quad & A x = b \n",
    " \\end{align}$$"
   ]
  },
  {
   "cell_type": "code",
   "execution_count": 41,
   "id": "46ecd904",
   "metadata": {},
   "outputs": [
    {
     "name": "stdout",
     "output_type": "stream",
     "text": [
      "\n",
      "ECOS 2.0.8 - (C) embotech GmbH, Zurich Switzerland, 2012-15. Web: www.embotech.com/ECOS\n",
      "\n",
      "It     pcost       dcost      gap   pres   dres    k/t    mu     step   sigma     IR    |   BT\n",
      " 0  +2.158e-01  -3.037e+01  +1e+02  4e-01  3e-01  1e+00  3e+01    ---    ---    1  3  - |  -  - \n",
      " 1  -3.434e-01  -1.277e+00  +6e+00  2e-02  1e-02  5e-01  2e+00  0.9552  3e-02   2  2  2 |  0  0\n",
      " 2  -8.480e-01  -9.915e-01  +1e+00  4e-03  3e-03  3e-01  4e-01  0.8503  9e-02   2  2  2 |  0  0\n",
      " 3  -7.309e-01  -7.334e-01  +2e-02  6e-05  6e-05  4e-03  7e-03  0.9890  6e-03   2  2  2 |  0  0\n",
      " 4  -7.289e-01  -7.289e-01  +4e-04  1e-06  1e-06  7e-05  1e-04  0.9830  1e-04   2  1  2 |  0  0\n",
      " 5  -7.289e-01  -7.289e-01  +1e-05  3e-08  3e-08  2e-06  4e-06  0.9679  1e-04   2  1  1 |  0  0\n",
      " 6  -7.289e-01  -7.289e-01  +7e-07  2e-09  2e-09  1e-07  2e-07  0.9430  5e-04   3  1  1 |  0  0\n",
      " 7  -7.289e-01  -7.289e-01  +7e-08  2e-10  2e-10  1e-08  2e-08  0.8932  9e-04   2  2  2 |  0  0\n",
      " 8  -7.289e-01  -7.289e-01  +4e-09  2e-10  1e-11  8e-10  1e-09  0.9586  1e-02   1  1  1 |  0  0\n",
      "\n",
      "OPTIMAL (within feastol=1.6e-10, reltol=5.3e-09, abstol=3.9e-09).\n",
      "Runtime: 0.001113 seconds.\n",
      "\n"
     ]
    },
    {
     "data": {
      "text/plain": [
       "10-element Vector{Float64}:\n",
       "  0.09724791987373017\n",
       "  0.1488434193275145\n",
       "  0.4860290018506496\n",
       "  0.29931754044643294\n",
       " -0.106880331362541\n",
       "  0.04208103746402248\n",
       " -0.1814010503222913\n",
       "  0.3390224830173805\n",
       "  0.12993335881168483\n",
       " -0.2421193804358406"
      ]
     },
     "execution_count": 41,
     "metadata": {},
     "output_type": "execute_result"
    }
   ],
   "source": [
    "let \n",
    "    \n",
    "    n = 10 \n",
    "    Q = randn(n,n); Q = Q'*Q + I # create PSD matrix \n",
    "    q = randn(n)\n",
    "    \n",
    "    A = randn(3,n)\n",
    "    b = randn(3)\n",
    "    \n",
    "    x = cvx.Variable(n)\n",
    "    \n",
    "    # NOTE: quadform(x,Q) = x'*Q*x \n",
    "    cost = 0.5*cvx.quadform(x,Q) + dot(q,x) \n",
    "    \n",
    "    prob = cvx.minimize(cost)\n",
    "    \n",
    "    prob.constraints += (A*x == b)\n",
    "    \n",
    "    cvx.solve!(prob, ECOS.Optimizer; silent_solver = false)\n",
    "    \n",
    "    xcvx = x.value::Matrix # This will always be a matrix\n",
    "    xcvx = vec(x.value) # convert to vector easily \n",
    "    \n",
    "    \n",
    "end\n",
    " "
   ]
  },
  {
   "cell_type": "markdown",
   "id": "076ed79c",
   "metadata": {},
   "source": [
    "## Letting Convex.jl do the parsing \n",
    "\n",
    "$$ \\begin{align} \\min_{x} \\quad & \\|Ax - b\\|_1 \\\\ \n",
    " \\text{st} \\quad &\\|x\\|_2 \\leq 3\n",
    " \\end{align}$$\n",
    " \n",
    " This problem is not in any sort of \"standard form\", but it is convex. We will let Convex.jl will convert this into a standard form \"canonicalizing it\", and send it ECOS to solve. "
   ]
  },
  {
   "cell_type": "code",
   "execution_count": 42,
   "id": "c5b9665e",
   "metadata": {},
   "outputs": [
    {
     "name": "stdout",
     "output_type": "stream",
     "text": [
      "\n",
      "ECOS 2.0.8 - (C) embotech GmbH, Zurich Switzerland, 2012-15. Web: www.embotech.com/ECOS\n",
      "\n",
      "It     pcost       dcost      gap   pres   dres    k/t    mu     step   sigma     IR    |   BT\n",
      " 0  +1.147e-17  -3.000e+00  +7e+01  5e-01  6e-01  1e+00  3e+00    ---    ---    1  1  - |  -  - \n",
      " 1  +4.051e+00  +4.241e+00  +2e+01  7e-02  1e-01  8e-01  8e-01  0.8261  1e-01   1  1  1 |  0  0\n",
      " 2  +4.510e+00  +4.552e+00  +3e+00  1e-02  2e-02  2e-01  2e-01  0.8209  3e-02   1  1  1 |  0  0\n",
      " 3  +4.534e+00  +4.533e+00  +1e-01  3e-04  5e-04  3e-03  5e-03  0.9890  2e-02   1  1  1 |  0  0\n",
      " 4  +4.535e+00  +4.535e+00  +1e-03  4e-06  6e-06  3e-05  6e-05  0.9890  1e-04   1  1  1 |  0  0\n",
      " 5  +4.535e+00  +4.535e+00  +1e-05  4e-08  6e-08  3e-07  7e-07  0.9890  1e-04   1  1  1 |  0  0\n",
      " 6  +4.535e+00  +4.535e+00  +2e-07  4e-10  7e-10  4e-09  7e-09  0.9890  1e-04   1  0  0 |  0  0\n",
      " 7  +4.535e+00  +4.535e+00  +2e-09  5e-12  8e-12  4e-11  8e-11  0.9890  1e-04   1  0  0 |  0  0\n",
      "\n",
      "OPTIMAL (within feastol=7.8e-12, reltol=3.7e-10, abstol=1.7e-09).\n",
      "Runtime: 0.000185 seconds.\n",
      "\n"
     ]
    },
    {
     "data": {
      "text/plain": [
       "5-element Vector{Float64}:\n",
       "  0.7522684827972297\n",
       "  0.1491383275306395\n",
       "  0.3234098585384891\n",
       "  0.045071042424177546\n",
       " -0.4801159046796672"
      ]
     },
     "execution_count": 42,
     "metadata": {},
     "output_type": "execute_result"
    }
   ],
   "source": [
    "let \n",
    "    A = randn(10,5)\n",
    "    b = randn(10)\n",
    "    x = cvx.Variable(5)\n",
    "    \n",
    "    prob = cvx.minimize(norm(A*x - b, 1)) \n",
    "    prob.constraints += (norm(x,2) <= 3)\n",
    "\n",
    "    cvx.solve!(prob, ECOS.Optimizer; silent_solver = false)\n",
    "    \n",
    "    xcvx = x.value::Matrix # This will always be a matrix\n",
    "    xcvx = vec(x.value) # convert to vector easily \n",
    "end"
   ]
  },
  {
   "cell_type": "markdown",
   "id": "e172aedc",
   "metadata": {},
   "source": [
    "## Convex Trajectory Optimization\n",
    "$$ \\begin{align} \\min_{x_{1:N},u_{1:N-1}} \\quad & \\sum_{i=1}^{N-1} \\bigg[ \\|x_i - x_g\\|_2^2 + \\|u_i\\|_1 \\bigg] + \\frac{1}{2}x_N^TQ_fx_N & \\\\ \n",
    " \\text{st} \\quad & x_1 = x_{\\text{IC}} \\\\ \n",
    " & x_{i+1} = A x_i + Bu_i \\quad &\\text{for } i = 1,2,\\ldots,N-1 \\\\ \n",
    " & x_N = x_g \\\\ \n",
    " & \\|u_i\\|_2 \\leq 3 \\quad &\\text{for } i = 1,2,\\ldots,N-1\\\\ \n",
    " & x_{min} \\leq x_i \\leq x_{max} \\quad &\\text{for } i = 1,2,\\ldots,N-1\\\\ \n",
    " \\end{align}$$"
   ]
  },
  {
   "cell_type": "code",
   "execution_count": 45,
   "id": "dc09a0a5",
   "metadata": {},
   "outputs": [
    {
     "name": "stdout",
     "output_type": "stream",
     "text": [
      "\n",
      "ECOS 2.0.8 - (C) embotech GmbH, Zurich Switzerland, 2012-15. Web: www.embotech.com/ECOS\n",
      "\n",
      "It     pcost       dcost      gap   pres   dres    k/t    mu     step   sigma     IR    |   BT\n",
      " 0  +0.000e+00  -4.005e+03  +5e+03  8e-02  5e-01  1e+00  2e+01    ---    ---    1  2  - |  -  - \n",
      " 1  +7.779e+01  -2.055e+03  +3e+03  4e-02  2e-01  3e+00  8e+00  0.6415  3e-01   1  1  1 |  0  0\n",
      " 2  +1.066e+02  -1.838e+03  +3e+03  4e-02  9e-02  4e+00  8e+00  0.2601  6e-01   1  1  2 |  0  0\n",
      " 3  +1.637e+02  -1.401e+03  +2e+03  3e-02  6e-02  5e+00  6e+00  0.5704  6e-01   1  1  1 |  0  0\n",
      " 4  +1.317e+02  -7.523e+02  +1e+03  2e-02  2e-02  3e+00  3e+00  0.5222  2e-01   1  1  1 |  0  0\n",
      " 5  +1.367e+02  -3.889e+02  +7e+02  1e-02  1e-02  2e+00  2e+00  0.6982  4e-01   1  1  1 |  0  0\n",
      " 6  +1.544e+02  -2.490e+02  +5e+02  7e-03  5e-03  2e+00  1e+00  0.6411  6e-01   2  2  2 |  0  0\n",
      " 7  +1.463e+02  -2.720e+01  +2e+02  3e-03  2e-03  8e-01  6e-01  0.9890  4e-01   2  1  1 |  0  0\n",
      " 8  +1.427e+02  +1.103e+02  +4e+01  6e-04  3e-04  2e-01  1e-01  0.8677  6e-02   2  2  2 |  0  0\n",
      " 9  +1.455e+02  +1.356e+02  +1e+01  2e-04  1e-04  4e-02  3e-02  0.8428  2e-01   2  1  2 |  0  0\n",
      "10  +1.466e+02  +1.457e+02  +1e+00  2e-05  9e-06  4e-03  3e-03  0.9135  4e-03   2  1  1 |  0  0\n",
      "11  +1.467e+02  +1.466e+02  +2e-01  3e-06  2e-06  7e-04  6e-04  0.8736  7e-02   3  1  1 |  0  0\n",
      "12  +1.468e+02  +1.467e+02  +1e-02  2e-07  1e-07  5e-05  4e-05  0.9499  3e-02   2  1  1 |  0  0\n",
      "13  +1.468e+02  +1.468e+02  +2e-03  3e-08  2e-08  7e-06  6e-06  0.8880  2e-02   2  2  1 |  0  0\n",
      "14  +1.468e+02  +1.468e+02  +4e-04  6e-09  3e-09  1e-06  1e-06  0.8208  2e-02   3  1  1 |  0  0\n",
      "15  +1.468e+02  +1.468e+02  +2e-05  4e-10  2e-10  8e-08  7e-08  0.9838  4e-02   2  2  2 |  0  0\n",
      "16  +1.468e+02  +1.468e+02  +1e-06  2e-11  9e-12  4e-09  3e-09  0.9518  1e-03   2  2  2 |  0  0\n",
      "\n",
      "OPTIMAL (within feastol=1.8e-11, reltol=7.3e-09, abstol=1.1e-06).\n",
      "Runtime: 0.002303 seconds.\n",
      "\n"
     ]
    },
    {
     "data": {
      "text/plain": [
       "2×19 Matrix{Float64}:\n",
       " -1.94916   -1.88156  -0.385014  …   0.459161    0.47516    0.973417\n",
       "  0.721039   1.89804   0.357858     -0.0978981  -0.109679  -0.39604"
      ]
     },
     "execution_count": 45,
     "metadata": {},
     "output_type": "execute_result"
    }
   ],
   "source": [
    "function controllable(A,B)\n",
    "    n = size(A,1)\n",
    "    C = hcat([A^i*B for i = 0:(n-1)]...)\n",
    "    return rank(C) == n \n",
    "end\n",
    "\n",
    "let \n",
    "    \n",
    "    # create linear system\n",
    "    nx = 4 \n",
    "    nu = 2 \n",
    "    A = randn(nx,nx);\n",
    "    B = randn(nx,nu);\n",
    "    @assert controllable(A,B)\n",
    "    \n",
    "    # time steps \n",
    "    N = 20 \n",
    "    x_ic = randn(nx)\n",
    "    x_g = randn(nx)\n",
    "    \n",
    "    # terminal cost \n",
    "    Qf = randn(nx,nx); Qf = Qf'*Qf + I # make PSD Qf \n",
    "    \n",
    "    # create cvx variables x_k = X[:,k], u_k = U[:,k]\n",
    "    X = cvx.Variable(nx, N)\n",
    "    U = cvx.Variable(nu, N - 1)\n",
    "    \n",
    "    # create cost \n",
    "    cost = 0 \n",
    "    for k = 1:(N-1)\n",
    "        xk = X[:,k]\n",
    "        uk = U[:,k]\n",
    "        cost += cvx.sumsquares(xk - x_g)\n",
    "        cost += norm(uk, 1)\n",
    "    end\n",
    "    xn = X[:,N]\n",
    "    cost += 0.5*cvx.quadform(xn, Qf)\n",
    "    \n",
    "    # initialize cvx problem \n",
    "    prob = cvx.minimize(cost)\n",
    "    \n",
    "    # initial condition constraint \n",
    "    prob.constraints += X[:,1] == x_ic \n",
    "    \n",
    "    for k = 1:(N-1)\n",
    "        # dynamics constraints \n",
    "        prob.constraints += (X[:,k+1] == A*X[:,k] + B*U[:,k])\n",
    "    end\n",
    "    \n",
    "    # goal constraint \n",
    "    prob.constraints += X[:,N] == x_g\n",
    "    \n",
    "    # norm(u)<3 \n",
    "    for k = 1:(N-1)\n",
    "        uk = U[:,k]\n",
    "        prob.constraints += norm(uk,2) <= 3 \n",
    "    end\n",
    "    \n",
    "    x_min = -20*ones(nx)\n",
    "    x_max =  20*ones(nx)\n",
    "    for k = 1:N\n",
    "        xk = X[:,k]\n",
    "        prob.constraints += xk <= x_max \n",
    "        prob.constraints += xk >= x_min \n",
    "    end\n",
    "    \n",
    "    # solve problem (silent solver tells us the output)\n",
    "    cvx.solve!(prob, ECOS.Optimizer; silent_solver = false)\n",
    "    \n",
    "    if prob.status != cvx.MathOptInterface.OPTIMAL\n",
    "        error(\"Convex.jl problem failed to solve for some reason\")\n",
    "    end\n",
    "        \n",
    "    # convert the solution matrices into vectors of vectors \n",
    "    X = X.value::Matrix\n",
    "    U = U.value::Matrix\n",
    "end"
   ]
  }
 ],
 "metadata": {
  "kernelspec": {
   "display_name": "Julia 1.6.7",
   "language": "julia",
   "name": "julia-1.6"
  },
  "language_info": {
   "file_extension": ".jl",
   "mimetype": "application/julia",
   "name": "julia",
   "version": "1.6.7"
  }
 },
 "nbformat": 4,
 "nbformat_minor": 5
}
